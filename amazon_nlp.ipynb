import spacy
from spacy.matcher import Matcher

# Load spaCy model
nlp = spacy.load('en_core_web_sm')

# Sample Amazon review text (replace with dataset)
reviews = [
    "I love my new Apple iPhone 13, it's super fast!",
    "The Samsung Galaxy screen broke after a week, very disappointed.",
    "Bought a Sony TV and the picture quality is amazing."
]

# Perform NER and sentiment analysis
matcher = Matcher(nlp.vocab)
# Define sentiment patterns
positive_pattern = [{'LOWER': {'IN': ['love', 'amazing', 'great', 'awesome']}}]
negative_pattern = [{'LOWER': {'IN': ['disappointed', 'broke', 'bad', 'poor']}}]
matcher.add('POSITIVE', [positive_pattern])
matcher.add('NEGATIVE', [negative_pattern])

# Process reviews
for review in reviews:
    doc = nlp(review)
    # Extract entities (products/brands)
    entities = [(ent.text, ent.label_) for ent in doc.ents if ent.label_ in ['PRODUCT', 'ORG']]
    
    # Sentiment analysis
    matches = matcher(doc)
    sentiment = 'Neutral'
    for match_id, start, end in matches:
        if nlp.vocab.strings[match_id] == 'POSITIVE':
            sentiment = 'Positive'
        elif nlp.vocab.strings[match_id] == 'NEGATIVE':
            sentiment = 'Negative'
    
    print(f"Review: {review}")
    print(f"Entities: {entities}")
    print(f"Sentiment: {sentiment}\n")

# Save output for report
with open('nlp_results.txt', 'w') as f:
    for review in reviews:
        doc = nlp(review)
        entities = [(ent.text, ent.label_) for ent in doc.ents if ent.label_ in ['PRODUCT', 'ORG']]
        matches = matcher(doc)
        sentiment = 'Neutral'
        for match_id, start, end in matches:
            if nlp.vocab.strings[match_id] == 'POSITIVE':
                sentiment = 'Positive'
            elif nlp.vocab.strings[match_id] == 'NEGATIVE':
                sentiment = 'Negative'
        f.write(f"Review: {review}\nEntities: {entities}\nSentiment: {sentiment}\n\n")
