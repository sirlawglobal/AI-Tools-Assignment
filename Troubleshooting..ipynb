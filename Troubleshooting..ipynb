# Buggy TensorFlow Code (Original with errors)
"""
import tensorflow as tf
from tensorflow.keras import layers

# Original buggy code
model = tf.keras.Sequential([
    layers.Dense(64, activation='relu', input_shape=(784)),  # Error: missing comma
    layers.Dense(128, activation='relu'),
    layers.Dense(10, activation='softmax')
])

model.compile(optimizer='adam', loss='categorical_crossentropy')  # Error: missing metrics

# Training with dimension mismatch
history = model.fit(x_train, y_train, epochs=10)  # Error: y_train not one-hot encoded
"""

# Debugged and Fixed Code
import tensorflow as tf
from tensorflow.keras import layers
import numpy as np

print("Debugging and fixing the TensorFlow code...")

# Fixed model architecture
model = tf.keras.Sequential([
    layers.Dense(64, activation='relu', input_shape=(784,)),  # Fixed: added comma
    layers.Dense(128, activation='relu'),
    layers.Dense(10, activation='softmax')
])

# Fixed compilation with metrics
model.compile(
    optimizer='adam', 
    loss='categorical_crossentropy',
    metrics=['accuracy']  # Fixed: added metrics
)

print("Model compiled successfully!")

# Generate sample data for testing
x_train = np.random.random((1000, 784))
y_train = tf.keras.utils.to_categorical(np.random.randint(0, 10, 1000), 10)  # Fixed: one-hot encoding

# Fixed training
history = model.fit(
    x_train, 
    y_train, 
    epochs=5,  # Reduced for demonstration
    batch_size=32,
    verbose=1
)

print("✅ Code debugging completed successfully!")
